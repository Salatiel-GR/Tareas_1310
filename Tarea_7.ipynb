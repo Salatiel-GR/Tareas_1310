{
  "nbformat": 4,
  "nbformat_minor": 0,
  "metadata": {
    "colab": {
      "name": "Tarea_7.ipynb",
      "provenance": [],
      "authorship_tag": "ABX9TyMt40aql0svUA+UpXNQBMn6",
      "include_colab_link": true
    },
    "kernelspec": {
      "name": "python3",
      "display_name": "Python 3"
    },
    "language_info": {
      "name": "python"
    }
  },
  "cells": [
    {
      "cell_type": "markdown",
      "metadata": {
        "id": "view-in-github",
        "colab_type": "text"
      },
      "source": [
        "<a href=\"https://colab.research.google.com/github/Salatiel-GR/Tareas_1310/blob/main/Tarea_7.ipynb\" target=\"_parent\"><img src=\"https://colab.research.google.com/assets/colab-badge.svg\" alt=\"Open In Colab\"/></a>"
      ]
    },
    {
      "cell_type": "code",
      "metadata": {
        "id": "kC5F-5dnoWbB"
      },
      "source": [
        "class Nodo:\n",
        "    def __init__(self, value, siguiente = None):\n",
        "        self.data = value\n",
        "        self.next = siguiente\n",
        "\n",
        "class LinkedList:\n",
        "    def __init__(self):\n",
        "        self.head= None\n",
        "\n",
        "    def is_empty(self):\n",
        "        return self.head ==None\n",
        "    def get_tail(self):\n",
        "        if self.is_empty():\n",
        "            return None\n",
        "        else:\n",
        "             curr_node = self.head\n",
        "             while curr_node.next  !=None:\n",
        "                 curr_node = curr_node.next\n",
        "             s = curr_node.data\n",
        "             print(s)\n",
        "    def append(self , value):\n",
        "        if self.head == None:\n",
        "            self.head =Nodo(value)\n",
        "        else:\n",
        "             curr_node = self.head\n",
        "             while curr_node.next != None:\n",
        "                 curr_node = curr_node.next\n",
        "             curr_node.next =Nodo(value)\n",
        "    def get_size(self):\n",
        "        return self.size\n",
        "    \n",
        "    def pop (self):\n",
        "        if self.head == None:\n",
        "          print(\"Esta vacia, no se puede sacar el elemento \")\n",
        "        else:\n",
        "            curr_node = self.head\n",
        "            while curr_node.next.next != None:\n",
        "                  curr_node = curr_node.next\n",
        "            print(curr_node.next.data)\n",
        "            curr_node.next = None\n",
        "\n",
        "    def pop_first(self):\n",
        "        if self.head == None:\n",
        "          print(\"Esta vacia, no se puede sacar ningun elemento\")\n",
        "        else:\n",
        "              print(self.head.data)\n",
        "              self.head = self.head.next\n",
        "\n",
        "    def transversal (self):\n",
        "      curr_node = self.head\n",
        "      while curr_node != None:\n",
        "        print(f\"| {curr_node.data} | -->\", end=\"\")\n",
        "        curr_node = curr_node.next\n",
        "      print (\"\")"
      ],
      "execution_count": 8,
      "outputs": []
    },
    {
      "cell_type": "code",
      "metadata": {
        "colab": {
          "base_uri": "https://localhost:8080/"
        },
        "id": "m3RHTpqLogcR",
        "outputId": "273b9a9d-d276-49c9-a621-43da28f97004"
      },
      "source": [
        "lista = LinkedList()\n",
        "lista.append(10)\n",
        "lista.append(20)\n",
        "lista.append(30)\n",
        "lista.append(40)\n",
        "lista.append(50)\n",
        "lista.transversal()\n",
        "print(\"____________\")\n",
        "lista.get_tail()\n",
        "print(\"____________\")\n",
        "lista.pop()\n",
        "lista.transversal()\n",
        "lista.pop_first()\n",
        "lista.transversal()"
      ],
      "execution_count": 9,
      "outputs": [
        {
          "output_type": "stream",
          "name": "stdout",
          "text": [
            "| 10 | -->| 20 | -->| 30 | -->| 40 | -->| 50 | -->\n",
            "____________\n",
            "50\n",
            "____________\n",
            "50\n",
            "| 10 | -->| 20 | -->| 30 | -->| 40 | -->\n",
            "10\n",
            "| 20 | -->| 30 | -->| 40 | -->\n"
          ]
        }
      ]
    }
  ]
}