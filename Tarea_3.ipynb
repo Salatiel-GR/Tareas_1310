{
  "nbformat": 4,
  "nbformat_minor": 0,
  "metadata": {
    "colab": {
      "name": "Tarea_3",
      "provenance": [],
      "authorship_tag": "ABX9TyP9zN0aLc3SEe/5LXlxd12L",
      "include_colab_link": true
    },
    "kernelspec": {
      "name": "python3",
      "display_name": "Python 3"
    },
    "language_info": {
      "name": "python"
    }
  },
  "cells": [
    {
      "cell_type": "markdown",
      "metadata": {
        "id": "view-in-github",
        "colab_type": "text"
      },
      "source": [
        "<a href=\"https://colab.research.google.com/github/Salatiel-GR/Tareas_1310/blob/main/Tarea_3.ipynb\" target=\"_parent\"><img src=\"https://colab.research.google.com/assets/colab-badge.svg\" alt=\"Open In Colab\"/></a>"
      ]
    },
    {
      "cell_type": "code",
      "metadata": {
        "colab": {
          "base_uri": "https://localhost:8080/"
        },
        "id": "CX70NQHkvvGs",
        "outputId": "a8698950-8803-4e08-d946-0d17c3587e18"
      },
      "source": [
        "print(\"Comanda\")\n",
        "Num_mesa= int(input(\"Número de mesa: \"))\n",
        "Num_cliente= int(input(\"Introduce el número de comensal: \"))\n",
        "Entr = (input(\"Introduce la entrada: \"))\n",
        "Med= (input(\"Introduce el tiempo medio: \"))\n",
        "Fuer= (input(\"Introduce el plato fuerte: \"))\n",
        "Extr= (input(\"Introduce indicaciones adicionales: \"))\n",
        "\n",
        "\n",
        "print(f\"\\nDetalles: \\n   MESA:{Num_mesa} \\n   COMENSAL:{Num_cliente}\\n   ENTRADA:{Entr}\\n   MEDIO:{Med}\\n   FUERTE:{Fuer}\\n   ADICIONALES:{Extr}\")"
      ],
      "execution_count": 10,
      "outputs": [
        {
          "output_type": "stream",
          "name": "stdout",
          "text": [
            "Comanda\n",
            "Número de mesa: 2\n",
            "Introduce el número de comensal: 3\n",
            "Introduce la entrada: Arroz\n",
            "Introduce el tiempo medio: Sopa\n",
            "Introduce el plato fuerte: Filete\n",
            "Introduce indicaciones adicionales: Tortillas con sal\n",
            "\n",
            "Detalles: \n",
            "   MESA:2 \n",
            "   COMENSAL:3\n",
            "   ENTRADA:Arroz\n",
            "   MEDIO:Sopa\n",
            "   FUERTE:Filete\n",
            "   ADICIONALES:Tortillas con sal\n"
          ]
        }
      ]
    }
  ]
}