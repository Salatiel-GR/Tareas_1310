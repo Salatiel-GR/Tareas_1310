{
  "nbformat": 4,
  "nbformat_minor": 0,
  "metadata": {
    "colab": {
      "name": "Tarea 4",
      "provenance": [],
      "authorship_tag": "ABX9TyMA1XN6NV75L4NhBIhvw0yz",
      "include_colab_link": true
    },
    "kernelspec": {
      "name": "python3",
      "display_name": "Python 3"
    },
    "language_info": {
      "name": "python"
    }
  },
  "cells": [
    {
      "cell_type": "markdown",
      "metadata": {
        "id": "view-in-github",
        "colab_type": "text"
      },
      "source": [
        "<a href=\"https://colab.research.google.com/github/Salatiel-GR/Tareas_1310/blob/main/Tarea_4.ipynb\" target=\"_parent\"><img src=\"https://colab.research.google.com/assets/colab-badge.svg\" alt=\"Open In Colab\"/></a>"
      ]
    },
    {
      "cell_type": "code",
      "metadata": {
        "colab": {
          "base_uri": "https://localhost:8080/"
        },
        "id": "IKcmE_JIS5MR",
        "outputId": "6c2c8b14-1383-4688-e16e-76f5bd685328"
      },
      "source": [
        "a = float(input('Introduzca el valor a:'))\n",
        "b = float(input('Introduzca el valor b:'))\n",
        "c = float(input('Introduzca el valor c:'))\n",
        "if a == 0:\n",
        "    print(\"--> a <-- no puede valer 0\")\n",
        "    \n",
        "else:\n",
        "     \n",
        "    x1=(-b+(((b**2)-(4*a*c))**0.5))/(2*a)\n",
        "    x2=(-b-(((b**2)-(4*a*c))**0.5))/(2*a)\n",
        "\n",
        "\n",
        "    print(f\"El valor de x1 es:{x1}\")\n",
        "     \n",
        "\n",
        "    print(f\"El valor de x2 es: {x2}\")\n",
        "    "
      ],
      "execution_count": 38,
      "outputs": [
        {
          "output_type": "stream",
          "name": "stdout",
          "text": [
            "Introduzca el valor a:2\n",
            "Introduzca el valor b:-7\n",
            "Introduzca el valor c:3\n",
            "El valor de x1 es:3.0\n",
            "El valor de x2 es: 0.5\n"
          ]
        }
      ]
    }
  ]
}