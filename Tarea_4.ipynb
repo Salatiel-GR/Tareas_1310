{
  "nbformat": 4,
  "nbformat_minor": 0,
  "metadata": {
    "colab": {
      "name": "Tarea 4",
      "provenance": [],
      "authorship_tag": "ABX9TyMA1XN6NV75L4NhBIhvw0yz",
      "include_colab_link": true
    },
    "kernelspec": {
      "name": "python3",
      "display_name": "Python 3"
    },
    "language_info": {
      "name": "python"
    }
  },
  "cells": [
    {
      "cell_type": "markdown",
      "metadata": {
        "id": "view-in-github",
        "colab_type": "text"
      },
      "source": [
        "<a href=\"https://colab.research.google.com/github/Salatiel-GR/Tareas_1310/blob/main/Tarea_4.ipynb\" target=\"_parent\"><img src=\"https://colab.research.google.com/assets/colab-badge.svg\" alt=\"Open In Colab\"/></a>"
      ]
    },
    {
      "cell_type": "code",
      "metadata": {
        "id": "IKcmE_JIS5MR"
      },
      "source": [
        "a = float(input('Introduzca el valor a:'))\n",
        "b = float(input('Introduzca el valor b:'))\n",
        "c = float(input('Introduzca el valor c:'))\n",
        "if a == 0:\n",
        "    print(\"--> a <-- no puede valer 0\")\n",
        "    \n",
        "else:\n",
        "     \n",
        "    x1=(-b+(((b**2)-(4*a*c))**0.5))/(2*a)\n",
        "    x2=(-b-(((b**2)-(4*a*c))**0.5))/(2*a)\n",
        "\n",
        "\n",
        "    print(f\"El valor de x1 es:{x1}\")\n",
        "     \n",
        "\n",
        "    print(f\"El valor de x2 es: {x2}\")\n",
        "    "
      ],
      "execution_count": null,
      "outputs": []
    }
  ]
}