{
  "nbformat": 4,
  "nbformat_minor": 0,
  "metadata": {
    "colab": {
      "name": "Tarea_8ipynb",
      "provenance": [],
      "authorship_tag": "ABX9TyOT9n3WHEcV8Wx9c9lqACRi",
      "include_colab_link": true
    },
    "kernelspec": {
      "name": "python3",
      "display_name": "Python 3"
    },
    "language_info": {
      "name": "python"
    }
  },
  "cells": [
    {
      "cell_type": "markdown",
      "metadata": {
        "id": "view-in-github",
        "colab_type": "text"
      },
      "source": [
        "<a href=\"https://colab.research.google.com/github/Salatiel-GR/Tareas_1310/blob/main/Tarea_8ipynb.ipynb\" target=\"_parent\"><img src=\"https://colab.research.google.com/assets/colab-badge.svg\" alt=\"Open In Colab\"/></a>"
      ]
    },
    {
      "cell_type": "code",
      "metadata": {
        "id": "Ma9VBswjkHTs"
      },
      "source": [
        "class NodoDoble: \n",
        "\n",
        "  def __init__(self, value, siguiente = None, previo = None):\n",
        "    self.data = value\n",
        "    self.next = siguiente\n",
        "    self.prev = previo\n",
        "\n",
        "class DoubleLinkedList:\n",
        "\n",
        "        def __init__(self):\n",
        "            self.head = None\n",
        "            self.tail = None\n",
        "            self.size = 0\n",
        "\n",
        "        def get_size(self):\n",
        "            return self.size\n",
        "\n",
        "        def is_empty(self): \n",
        "            return self.size == 0\n",
        "\n",
        "        def append(self, value):\n",
        "            if self.is_empty():\n",
        "                self.head = NodoDoble(value)\n",
        "                self.tail = self.head\n",
        "            else:\n",
        "                self.tail.next = NodoDoble(value, None, self.tail)\n",
        "                self.tail = self.tail.next\n",
        "            self.size +=1 \n",
        "\n",
        "        def transversal(self):\n",
        "            curr_node = self.head \n",
        "\n",
        "            while curr_node != None :\n",
        "                print(f\"| {curr_node.data} | -->\", end=\"\")\n",
        "                curr_node = curr_node.next\n",
        "            print(\"\")\n",
        "\n",
        "\n",
        "        def remove_from_head(self, value):\n",
        "            curr_node = self.head \n",
        "\n",
        "            while curr_node.data != value: \n",
        "                curr_node = curr_node.next\n",
        "            if curr_node.data == value:\n",
        "                curr_node.prev.next = curr_node.next\n",
        "                curr_node.next.prev = curr_node.prev\n",
        "                \n",
        "           \n",
        "        def remove_from_tail(self, value):\n",
        "            curr_node = self.tail\n",
        "\n",
        "            while curr_node.data != value:\n",
        "                curr_node = curr_node.prev\n",
        "            if curr_node.data == value:\n",
        "                curr_node.next.prev = curr_node.prev\n",
        "                curr_node.prev.next = curr_node.next\n",
        "               \n",
        "        def find_from_head(self, value):\n",
        "            curr_node = self.head \n",
        "            contador = 0\n",
        "\n",
        "            while curr_node.data != value:\n",
        "                contador += 1\n",
        "                curr_node = curr_node.next\n",
        "            if curr_node.data == value:\n",
        "                print(f\"-Buscando a través de head-->Su valor esta en la posicion: {contador + 1}\")\n",
        "\n",
        "        def find_from_tail(self, value):\n",
        "            curr_node = self.tail\n",
        "            contador = 0\n",
        "\n",
        "            while curr_node.data != value:\n",
        "                contador += 1\n",
        "                curr_node = curr_node.prev\n",
        "            if curr_node.data == value:\n",
        "                print(f\"-Buscando a través de tail-->Su valor esta en la posicion: {contador + 1}\")\n",
        "            \n",
        "\n",
        "\n",
        "        def reverse_transversal(self):\n",
        "            curr_node = self.tail\n",
        "\n",
        "            while curr_node != None:\n",
        "                print(f\"| {curr_node.data} | -->\", end=\"\")\n",
        "                curr_node = curr_node.prev\n",
        "            print(\"\")"
      ],
      "execution_count": 10,
      "outputs": []
    },
    {
      "cell_type": "code",
      "metadata": {
        "colab": {
          "base_uri": "https://localhost:8080/"
        },
        "id": "xHOZX5FDkQGu",
        "outputId": "d371f72e-7bac-4f9b-8ceb-7fa6c33ed02f"
      },
      "source": [
        "ldl = DoubleLinkedList()\n",
        "ldl.append(35)\n",
        "ldl.append(40)\n",
        "ldl.append(45)\n",
        "ldl.append(50)\n",
        "ldl.append(55)\n",
        "ldl.append(60)\n",
        "ldl.size\n",
        "ldl.transversal()\n",
        "print(f\"Vacia = {Ldl.is_empty()}\")\n",
        "ldl.find_from_tail(45)\n",
        "ldl.find_from_head(45)\n",
        "ldl.remove_from_tail(40)\n",
        "ldl.transversal()#Sin el 40"
      ],
      "execution_count": 11,
      "outputs": [
        {
          "output_type": "stream",
          "name": "stdout",
          "text": [
            "| 35 | -->| 40 | -->| 45 | -->| 50 | -->| 55 | -->| 60 | -->\n",
            "Vacia = False\n",
            "-Buscando a través de tail-->Su valor esta en la posicion: 4\n",
            "-Buscando a través de head-->Su valor esta en la posicion: 3\n",
            "| 35 | -->| 45 | -->| 50 | -->| 55 | -->| 60 | -->\n"
          ]
        }
      ]
    }
  ]
}