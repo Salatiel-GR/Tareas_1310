{
  "nbformat": 4,
  "nbformat_minor": 0,
  "metadata": {
    "colab": {
      "name": "Código_30_sep",
      "provenance": [],
      "authorship_tag": "ABX9TyN/fzaSMMVVY/FkpcKUI3Ei",
      "include_colab_link": true
    },
    "kernelspec": {
      "name": "python3",
      "display_name": "Python 3"
    },
    "language_info": {
      "name": "python"
    }
  },
  "cells": [
    {
      "cell_type": "markdown",
      "metadata": {
        "id": "view-in-github",
        "colab_type": "text"
      },
      "source": [
        "<a href=\"https://colab.research.google.com/github/Salatiel-GR/Tareas_1310/blob/main/C%C3%B3digo_30_sep.ipynb\" target=\"_parent\"><img src=\"https://colab.research.google.com/assets/colab-badge.svg\" alt=\"Open In Colab\"/></a>"
      ]
    },
    {
      "cell_type": "code",
      "metadata": {
        "id": "DWqcIcKivt7T"
      },
      "source": [
        "class Persona:\n",
        "    def __init__(self , n , e , est):\n",
        "        self.__nombre = n\n",
        "        self.__edad = e\n",
        "        self.__estatura = est\n",
        "    def to_string(self):\n",
        "        return \"Nombre: \" + self.__nombre + \" Edad: \"+ str(self.__edad) + \" Estatura:\"+ str(self.__estatura)\n",
        "    \n",
        "    def set_estatura(self , nueva_est):\n",
        "        if nueva_est > 0.10 and nueva_est < 2.5:\n",
        "            self.__estatura = nueva_est\n",
        "        else:\n",
        "            print(\"Error: Esa estatura no es posible\")\n",
        "    def get_estatura (self):\n",
        "        return self.__estatura"
      ],
      "execution_count": 1,
      "outputs": []
    },
    {
      "cell_type": "code",
      "metadata": {
        "colab": {
          "base_uri": "https://localhost:8080/"
        },
        "id": "5IsMo3V7wBMk",
        "outputId": "39a7c975-e144-453b-b29b-5b10f5f81d21"
      },
      "source": [
        "per = Persona(\"Jose\" ,19, 1.7)\n",
        "print(per.to_string())\n",
        "\n",
        "#encampulamiento\n",
        "per.nombre = \"Pedro\" #Esto no se recomienda, se ouede rimper la logica \n",
        "print(per.to_string())\n",
        "#per.estatura =3.9\n",
        "#print(per.to_string())\n",
        "per.set_estatura(1.9)\n",
        "print(per.to_string())\n",
        "\n",
        "print(\"Estatura:\", end = \"\")\n",
        "#print(per.__estatura)\n",
        "print(per.get_estatura())"
      ],
      "execution_count": 2,
      "outputs": [
        {
          "output_type": "stream",
          "name": "stdout",
          "text": [
            "Nombre: Jose Edad: 19 Estatura:1.7\n",
            "Nombre: Jose Edad: 19 Estatura:1.7\n",
            "Nombre: Jose Edad: 19 Estatura:1.9\n",
            "Estatura:1.9\n"
          ]
        }
      ]
    },
    {
      "cell_type": "code",
      "metadata": {
        "id": "_8pIY5xFwEpd"
      },
      "source": [
        "#Herencia\n",
        "class Estudiante (Persona):\n",
        "    def __init__(self , nc , nombre , edad , est):\n",
        "        self.__num_cta = nc \n",
        "        super().__init__(nombre,edad,est)\n",
        "\n",
        "    def to_string (self):\n",
        "        return super().to_string() + \" Numero de cta.:\" + self.__num_cta"
      ],
      "execution_count": 5,
      "outputs": []
    },
    {
      "cell_type": "code",
      "metadata": {
        "colab": {
          "base_uri": "https://localhost:8080/"
        },
        "id": "_zfHrzTLwJH6",
        "outputId": "8776eae1-f7eb-40c8-82cd-250c08764c07"
      },
      "source": [
        "est = Estudiante (\"318262563\", \"Jose\" , 18 , 1.7 , )\n",
        "print( est.to_string())"
      ],
      "execution_count": 4,
      "outputs": [
        {
          "output_type": "stream",
          "name": "stdout",
          "text": [
            "Nombre: Jose Edad: 18 Estatura:1.7 Numero de cta.:318262563\n"
          ]
        }
      ]
    }
  ]
}