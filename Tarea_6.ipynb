{
  "nbformat": 4,
  "nbformat_minor": 0,
  "metadata": {
    "colab": {
      "name": "Tarea-6.ipynb",
      "provenance": [],
      "authorship_tag": "ABX9TyOnIqrbMzXIBytaEb4WYoWB",
      "include_colab_link": true
    },
    "kernelspec": {
      "name": "python3",
      "display_name": "Python 3"
    },
    "language_info": {
      "name": "python"
    }
  },
  "cells": [
    {
      "cell_type": "markdown",
      "metadata": {
        "id": "view-in-github",
        "colab_type": "text"
      },
      "source": [
        "<a href=\"https://colab.research.google.com/github/Salatiel-GR/Tareas_1310/blob/main/Tarea_6.ipynb\" target=\"_parent\"><img src=\"https://colab.research.google.com/assets/colab-badge.svg\" alt=\"Open In Colab\"/></a>"
      ]
    },
    {
      "cell_type": "code",
      "metadata": {
        "id": "2Jf1_a2izpRw"
      },
      "source": [
        "class Array2DADT:\n",
        "    def __init__(self , ren , col):\n",
        "        self.__pollo = [[0 for y  in range(col)] for x in range(ren) ]\n",
        "    def clear (self , dato):\n",
        "        self.__pollo = [[dato for y  in range(self.get_col_size())] for x in range(self.get_row_size()) ]\n",
        "    def get_row_size(self):\n",
        "        return len( self.__pollo[0] )\n",
        "    def get_col_size(self):\n",
        "        return len( self.__pollo[0] )\n",
        "    def set_item(self, ren, col ,dato):\n",
        "        self.__pollo[ren][col] = dato\n",
        "    def get_item(self, ren, col):\n",
        "        return self.__pollo[ren][col]\n",
        "    def to_string(self):\n",
        "        cadena = \"\"\n",
        "        for renglon in self.__pollo:\n",
        "            cadena = cadena + \"|\"\n",
        "            for dato in renglon:\n",
        "                cadena = cadena + str(dato) +\" | \"\n",
        "            cadena = cadena + \"\\n\"\n",
        "        return cadena\n",
        "\n"
      ],
      "execution_count": null,
      "outputs": []
    },
    {
      "cell_type": "code",
      "metadata": {
        "id": "UncNVLzDz0Xj"
      },
      "source": [
        "\"\"\"\n",
        "Los datos iniciales como lo son: \n",
        "1.El tamaño de la poblacion (renglones y columnas)\n",
        "2.Poblacion inicial\n",
        "3.El número de generaciones a simular\n",
        "\n",
        "Estaran proporcionadas por un archivo de entrada separado por comas (CSV)\n",
        "\n",
        "---->entrada.txt<----\n",
        "6\n",
        "7\n",
        "0,0,0,0,0,0,0\n",
        "0,0,1,0,0,1,1\n",
        "0,1,1,1,0,0,1\n",
        "0,0,0,0,0,1,0\n",
        "0,0,0,0,0,0,1\n",
        "1,0,0,1,1,0,0\n",
        "11\n",
        "\n",
        "---->entrada2.txt<----\n",
        "6\n",
        "7\n",
        "0,0,0,0,0,0,0\n",
        "0,0,1,0,0,1,1\n",
        "0,1,1,1,0,0,1\n",
        "0,0,0,0,0,1,0\n",
        "0,0,0,0,0,0,1\n",
        "1,0,0,1,1,0,0\n",
        "11\n",
        "\n",
        "\n",
        "\"\"\"\n",
        "   \n",
        "class JuegoDeLaVida:\n",
        "        def __init__( self, ruta_archivo ):\n",
        "            self.rens = None\n",
        "            self.cola = None\n",
        "            self.tablero = None\n",
        "            self.generaciones = None\n",
        "            self.read_game_data (ruta_archivo)\n",
        "\n",
        "\n",
        "        def read_game_data( self, archivo ):\n",
        "            archivo = open(archivo, 'rt')\n",
        "            lineas = archivo.readlines()\n",
        "            for index in range(len(lineas)):\n",
        "                lineas[index] = lineas[index].strip()\n",
        "            #print(lineas)\n",
        "            self.rens = int( lineas[0] )\n",
        "            self.cols = int( lineas[1] )\n",
        "            self.tablero = Array2DADT(self.rens, self.cols)\n",
        "            r = 0\n",
        "            c = 0\n",
        "            print(lineas)\n",
        "\n",
        "            for index in range(2 , 2 + self.rens , 1 ):\n",
        "                c=0\n",
        "                for dato in lineas[index].split(','):\n",
        "                    self.tablero.set_item( r, c,int(dato) )\n",
        "                    c += 1\n",
        "                r += 1\n",
        "\n",
        "            self.generaciones = int(lineas[ len(lineas) -1 ] )\n",
        "            print(\"Gens: \" , self.generaciones)\n",
        "            print(self.tablero.to_string())\n",
        "\n",
        "        def get_vecinos( self , r , c):\n",
        "            vecinos = []\n",
        "            for ren in range( r-1 , r+2 , 1 ):\n",
        "                for col in range(c-1 , c+2 , 1):\n",
        "                    if ren < 0 or ren >= self.tablero.get_row_size() or col < 0 or col >= self.tablero.get_col_size() or (ren==r and col==c):\n",
        "                        pass\n",
        "                    else:\n",
        "                        vecinos.append((ren,col))\n",
        "            return vecinos\n",
        "\n",
        "        def get_vecinos_vivos(self, r, c):\n",
        "            vecinos = self.get_vecinos(r,c)\n",
        "            vivos = 0\n",
        "            for par in vecinos:\n",
        "                if self.tablero.get_item( par[0] , par[1] ) == 1:\n",
        "                    vivos +=1 \n",
        "            return vivos\n",
        "\n",
        "        def calcular_siguiente( self ):\n",
        "            nueva_gen = Array2DADT(self.rens, self.cols)\n",
        "            # aplicar 4 reglas a cada celula y el resultado ponerlo en nueva_gen\n",
        "            for ren in range(self.rens):\n",
        "                for col in range(self.cols):\n",
        "                    print(f\"{ren},{col} --> {self.get_vecinos_vivos(ren,col)}\" ,end=\" | \") #Cambiar esos 2 print por logica de progr 1er semestre\n",
        "                print(\"\")#Cambiar esos 2 print por logica de progr 1er semestre\n",
        "                    \n",
        "\n",
        "                \n",
        "            self.tablero = nueva_gen"
      ],
      "execution_count": null,
      "outputs": []
    },
    {
      "cell_type": "code",
      "metadata": {
        "id": "NCVHF74oz34H"
      },
      "source": [
        "juego = JuegoDeLaVida( \"entrada.txt\")\n",
        "juego = JuegoDeLaVida(\"entrada2.txt\")\n",
        "juego.calcular_siguiente()"
      ],
      "execution_count": null,
      "outputs": []
    }
  ]
}