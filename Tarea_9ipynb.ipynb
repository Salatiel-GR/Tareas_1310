{
  "nbformat": 4,
  "nbformat_minor": 0,
  "metadata": {
    "colab": {
      "name": "Tarea_9ipynb",
      "provenance": [],
      "collapsed_sections": [],
      "authorship_tag": "ABX9TyNAuefMDD+YZtcEvqeNA3JF",
      "include_colab_link": true
    },
    "kernelspec": {
      "name": "python3",
      "display_name": "Python 3"
    },
    "language_info": {
      "name": "python"
    }
  },
  "cells": [
    {
      "cell_type": "markdown",
      "metadata": {
        "id": "view-in-github",
        "colab_type": "text"
      },
      "source": [
        "<a href=\"https://colab.research.google.com/github/Salatiel-GR/Tareas_1310/blob/main/Tarea_9ipynb.ipynb\" target=\"_parent\"><img src=\"https://colab.research.google.com/assets/colab-badge.svg\" alt=\"Open In Colab\"/></a>"
      ]
    },
    {
      "cell_type": "code",
      "metadata": {
        "id": "gT1stUNfzyuy"
      },
      "source": [
        "#LLAVES\n",
        "entrada = open ('prog.txt' , 'rt')\n",
        "codigo =  entrada.read()\n",
        "pilaControl = StackADT()\n",
        "pilaControl.push(\"#\") #caracter de pila vacia   \n",
        "for letra in codigo:\n",
        "    #print (f\"--->{letra}<---\")\n",
        "    if letra == '{': #regla 1\n",
        "        pilaControl.push(\"{\")\n",
        "    elif letra == '}': #regla 2\n",
        "        basura = pilaControl.pop()\n",
        "    else:\n",
        "        pass\n",
        "if pilaControl.peek() == '#': \n",
        "    entrada = open ('prog.txt' , 'rt')\n",
        "    codigo =  entrada.read()\n",
        "\n",
        "    pilaControl = StackADT()\n",
        "    pilaControl.push(\"#\")   \n",
        "\n",
        "    for letra in codigo:\n",
        "    #print (f\"--->{letra}<---\")\n",
        "        if letra == '{': #regla 1\n",
        "            pilaControl.push(\"{\")\n",
        "        elif letra == '}': #regla 2\n",
        "           basura = pilaControl.pop()\n",
        "        else:\n",
        "            pass\n",
        "    if pilaControl.peek() == '#': \n",
        "       print(\"El código está balanceado en llaves\")\n",
        "else:\n",
        "    print(\"El código NO está balanceado en llaves { <---> }\")\n",
        "#PARENTESIS\n",
        "entrada = open ('prog.txt' , 'rt')\n",
        "codigo =  entrada.read()\n",
        "pilaControl = StackADT()\n",
        "pilaControl.push(\"#\") #caracter de pila vacia   \n",
        "for letra in codigo:\n",
        "    #print (f\"--->{letra}<---\")\n",
        "    if letra == '(': #regla 1\n",
        "        pilaControl.push(\"(\")\n",
        "    elif letra == ')': #regla 2\n",
        "        basura = pilaControl.pop()\n",
        "    else:\n",
        "        pass\n",
        "if pilaControl.peek() == '#': \n",
        "    entrada = open ('prog.txt' , 'rt')\n",
        "    codigo =  entrada.read()\n",
        "\n",
        "    pilaControl = StackADT()\n",
        "    pilaControl.push(\"#\")   \n",
        "\n",
        "    for letra in codigo:\n",
        "    #print (f\"--->{letra}<---\")\n",
        "        if letra == '(': #regla 1\n",
        "            pilaControl.push(\"(\")\n",
        "        elif letra == ')': #regla 2\n",
        "           basura = pilaControl.pop()\n",
        "        else:\n",
        "            pass\n",
        "    if pilaControl.peek() == '#': \n",
        "       print(\"El código está balanceado en paréntesis\")\n",
        "else:\n",
        "    print(\"El código NO está balanceado en paréntesis ( <---> )\")\n",
        "#Guardar el archivo al realizar un cambio para que funcione correctamente"
      ],
      "execution_count": null,
      "outputs": []
    }
  ]
}