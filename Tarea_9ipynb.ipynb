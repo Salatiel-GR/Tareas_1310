{
  "nbformat": 4,
  "nbformat_minor": 0,
  "metadata": {
    "colab": {
      "name": "Tarea_9ipynb",
      "provenance": [],
      "collapsed_sections": [],
      "authorship_tag": "ABX9TyMyvkl1OpbQimudtwgWFFGJ",
      "include_colab_link": true
    },
    "kernelspec": {
      "name": "python3",
      "display_name": "Python 3"
    },
    "language_info": {
      "name": "python"
    }
  },
  "cells": [
    {
      "cell_type": "markdown",
      "metadata": {
        "id": "view-in-github",
        "colab_type": "text"
      },
      "source": [
        "<a href=\"https://colab.research.google.com/github/Salatiel-GR/Tareas_1310/blob/main/Tarea_9ipynb.ipynb\" target=\"_parent\"><img src=\"https://colab.research.google.com/assets/colab-badge.svg\" alt=\"Open In Colab\"/></a>"
      ]
    },
    {
      "cell_type": "code",
      "metadata": {
        "id": "OV0sSXH5ka5e"
      },
      "source": [
        "class StackADT:\n",
        "    def __init__( self ):\n",
        "        self.__data = list()\n",
        "\n",
        "    #regresa true si la lista esta vacia\n",
        "    def is_empty( self ):\n",
        "         return len (self.__data) == 0\n",
        "\n",
        "    def get_length( self ):\n",
        "        return len ( self.__data )\n",
        "\n",
        "    def pop( self ):\n",
        "        if self.is_empty():\n",
        "            print(\"\")\n",
        "        else:\n",
        "            return self.__data.pop()\n",
        "    def peek( self ):\n",
        "        if self.is_empty():\n",
        "            print(\"\")\n",
        "        else:\n",
        "            return self.__data[ -1 ]\n",
        "    def push( self , value ):\n",
        "        self.__data.append( value )\n",
        "    def to_string( self ):\n",
        "        for item in self.__data[::-1]:\n",
        "            print(f\" | {item} | \")\n",
        "\n",
        "\n",
        "\n"
      ],
      "execution_count": 7,
      "outputs": []
    },
    {
      "cell_type": "code",
      "metadata": {
        "id": "6J8TqDVElb6n"
      },
      "source": [
        "entrada = open ('prog.txt' , 'rt')\n",
        "codigo =  entrada.read()\n",
        "#print(codigo)\n",
        "pilaControl = StackADT()\n",
        "pilaControl.push(\"#\") #caracter de pila vacia   \n",
        "\n",
        "for letra in codigo:\n",
        "    #print (f\"--->{letra}<---\")\n",
        "    if pilaControl.get_length() != 0:\n",
        "\n",
        "        if letra == '{': #regla 1\n",
        "            pilaControl.push(\"{\")\n",
        "        elif letra == '}': #regla 2\n",
        "            basura = pilaControl.pop()\n",
        "        elif letra == '(': \n",
        "            pilaControl.push('(')\n",
        "        elif letra == '}': \n",
        "            pilaControl.pop()\n",
        "        elif letra == ')': \n",
        "            pilaControl.pop()\n",
        "        else:\n",
        "            pass\n",
        "    else:\n",
        "        break\n",
        "\n",
        "if pilaControl.peek() == '#':\n",
        "    print(\"El código está  balanceado en llaves y paréntesis\")\n",
        "else:\n",
        "    print(\"El código NO está balanceado en llaves o paréntesis {} <---> ()\")\n",
        "#NOTA: Guardar los cambios antes de correr el programa para que funcione correctamente\n"
      ],
      "execution_count": null,
      "outputs": []
    }
  ]
}