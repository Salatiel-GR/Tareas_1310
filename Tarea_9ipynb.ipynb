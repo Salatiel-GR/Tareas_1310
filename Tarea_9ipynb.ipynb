{
  "nbformat": 4,
  "nbformat_minor": 0,
  "metadata": {
    "colab": {
      "name": "Tarea_9ipynb",
      "provenance": [],
      "collapsed_sections": [],
      "authorship_tag": "ABX9TyOiLX1SUG0bIpfDPKzwYsrd",
      "include_colab_link": true
    },
    "kernelspec": {
      "name": "python3",
      "display_name": "Python 3"
    },
    "language_info": {
      "name": "python"
    }
  },
  "cells": [
    {
      "cell_type": "markdown",
      "metadata": {
        "id": "view-in-github",
        "colab_type": "text"
      },
      "source": [
        "<a href=\"https://colab.research.google.com/github/Salatiel-GR/Tareas_1310/blob/main/Tarea_9ipynb.ipynb\" target=\"_parent\"><img src=\"https://colab.research.google.com/assets/colab-badge.svg\" alt=\"Open In Colab\"/></a>"
      ]
    },
    {
      "cell_type": "code",
      "metadata": {
        "id": "OV0sSXH5ka5e"
      },
      "source": [
        "class StackADT:\n",
        "    def __init__( self ):\n",
        "        self.__data = list()\n",
        "\n",
        "    #regresa true si la lista esta vacia\n",
        "    def is_empty( self ):\n",
        "         return len (self.__data) == 0\n",
        "\n",
        "    def get_length( self ):\n",
        "        return len ( self.__data )\n",
        "\n",
        "    def pop( self ):\n",
        "        if self.is_empty():\n",
        "            print(\"\")\n",
        "        else:\n",
        "            return self.__data.pop()\n",
        "    def peek( self ):\n",
        "        if self.is_empty():\n",
        "            print(\"\")\n",
        "        else:\n",
        "            return self.__data[ -1 ]\n",
        "    def push( self , value ):\n",
        "        self.__data.append( value )\n",
        "    def to_string( self ):\n",
        "        for item in self.__data[::-1]:\n",
        "            print(f\" | {item} | \")\n",
        "\n",
        "\n",
        "\n"
      ],
      "execution_count": 120,
      "outputs": []
    },
    {
      "cell_type": "code",
      "metadata": {
        "colab": {
          "base_uri": "https://localhost:8080/"
        },
        "id": "gT1stUNfzyuy",
        "outputId": "e5996718-a441-45ed-998c-7a1b3fd476fa"
      },
      "source": [
        "#LLAVES\n",
        "entrada = open ('prog.txt' , 'rt')\n",
        "codigo =  entrada.read()\n",
        "pilaControl = StackADT()\n",
        "pilaControl.push(\"#\") #caracter de pila vacia   \n",
        "for letra in codigo:\n",
        "    #print (f\"--->{letra}<---\")\n",
        "    if letra == '{': #regla 1\n",
        "        pilaControl.push(\"{\")\n",
        "    elif letra == '}': #regla 2\n",
        "        basura = pilaControl.pop()\n",
        "    else:\n",
        "        pass\n",
        "if pilaControl.peek() == '#': \n",
        "    entrada = open ('prog.txt' , 'rt')\n",
        "    codigo =  entrada.read()\n",
        "\n",
        "    pilaControl = StackADT()\n",
        "    pilaControl.push(\"#\")   \n",
        "\n",
        "    for letra in codigo:\n",
        "    #print (f\"--->{letra}<---\")\n",
        "        if letra == '{': #regla 1\n",
        "            pilaControl.push(\"{\")\n",
        "        elif letra == '}': #regla 2\n",
        "           basura = pilaControl.pop()\n",
        "        else:\n",
        "            pass\n",
        "    if pilaControl.peek() == '#': \n",
        "       print(\"El código está balanceado en llaves\")\n",
        "else:\n",
        "    print(\"El código NO está balanceado en llaves { <---> }\")\n",
        "#PARENTESIS\n",
        "entrada = open ('prog.txt' , 'rt')\n",
        "codigo =  entrada.read()\n",
        "pilaControl = StackADT()\n",
        "pilaControl.push(\"#\") #caracter de pila vacia   \n",
        "for letra in codigo:\n",
        "    #print (f\"--->{letra}<---\")\n",
        "    if letra == '(': #regla 1\n",
        "        pilaControl.push(\"(\")\n",
        "    elif letra == ')': #regla 2\n",
        "        basura = pilaControl.pop()\n",
        "    else:\n",
        "        pass\n",
        "if pilaControl.peek() == '#': \n",
        "    entrada = open ('prog.txt' , 'rt')\n",
        "    codigo =  entrada.read()\n",
        "\n",
        "    pilaControl = StackADT()\n",
        "    pilaControl.push(\"#\")   \n",
        "\n",
        "    for letra in codigo:\n",
        "    #print (f\"--->{letra}<---\")\n",
        "        if letra == '(': #regla 1\n",
        "            pilaControl.push(\"(\")\n",
        "        elif letra == ')': #regla 2\n",
        "           basura = pilaControl.pop()\n",
        "        else:\n",
        "            pass\n",
        "    if pilaControl.peek() == '#': \n",
        "       print(\"El código está balanceado en paréntesis\")\n",
        "else:\n",
        "    print(\"El código NO está balanceado en paréntesis ( <---> )\")\n",
        "#Guardar el archivo al realizar un cambio para que funcione correctamente"
      ],
      "execution_count": 128,
      "outputs": [
        {
          "output_type": "stream",
          "name": "stdout",
          "text": [
            "El código está balanceado en llaves\n",
            "\n",
            "El código NO está balanceado en paréntesis ( <---> )\n"
          ]
        }
      ]
    }
  ]
}